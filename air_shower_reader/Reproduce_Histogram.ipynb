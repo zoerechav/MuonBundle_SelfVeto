{
 "cells": [
  {
   "cell_type": "code",
   "execution_count": 1,
   "metadata": {},
   "outputs": [],
   "source": [
    "import numpy as np\n",
    "import h5py\n",
    "import matplotlib.pyplot as plt\n",
    "from scipy.interpolate import griddata\n",
    "from matplotlib import colors as clrs\n",
    "import matplotlib as mpl\n",
    "%matplotlib inline"
   ]
  },
  {
   "cell_type": "code",
   "execution_count": 2,
   "metadata": {},
   "outputs": [],
   "source": [
    "path_2 = '/data/user/zrechav/compiled_hdf5s/airshowered_corsika/Corsika_20904_sample.hdf5'\n",
    "file_2 = h5py.File(path_2,'r')"
   ]
  },
  {
   "cell_type": "code",
   "execution_count": 195,
   "metadata": {},
   "outputs": [],
   "source": [
    "##keys of value\n",
    "#'shower_neutrino_depth'\n",
    "#'shower_neutrino_energy'\n",
    "#'shower_neutrino_type'\n",
    "#'shower_neutrino_zenith'\n",
    "#'GaisserH4a_weight'\n",
    "#'Muon_UnCorr_Energy_L1'\n",
    "\n",
    "##files from picklemaker -- masking for an angle and depth and flavour\n",
    "#'/home/zrechav/scripts/air_shower_reader/picklemaking/masked_pickles/SingleMuonMask.npy'\n",
    "#'/home/zrechav/scripts/air_shower_reader/picklemaking/masked_pickles/Depth_mask_1.4.npy'\n",
    "#'/home/zrechav/scripts/air_shower_reader/picklemaking/masked_pickles/Angle_mask_0.4.npy'\n",
    "#'/home/zrechav/scripts/air_shower_reader/picklemaking/masked_pickles/Flavour_mask_NuMu.npy'"
   ]
  },
  {
   "cell_type": "code",
   "execution_count": 204,
   "metadata": {},
   "outputs": [],
   "source": [
    "SingleMuonMask = np.load('/home/zrechav/scripts/air_shower_reader/picklemaking/masked_pickles/SingleMuonMask.npy',\n",
    "                        mmap_mode='r',allow_pickle=True)\n",
    "DoubleMuonMask = np.load('/home/zrechav/scripts/air_shower_reader/picklemaking/masked_pickles/DoubleMuonMask.npy',\n",
    "                        mmap_mode='r',allow_pickle=True)\n",
    "Depth_Mask = np.load('/home/zrechav/scripts/air_shower_reader/picklemaking/masked_pickles/Depth_mask_1.4.npy',\n",
    "                    mmap_mode='r',allow_pickle=True)\n",
    "Angle_Mask = np.load('/home/zrechav/scripts/air_shower_reader/picklemaking/masked_pickles/Angle_mask_0.4.npy',\n",
    "                     mmap_mode='r',allow_pickle=True)\n",
    "Flavour_Mask = np.load('/home/zrechav/scripts/air_shower_reader/picklemaking/masked_pickles/Flavour_mask_NuMu.npy',\n",
    "                       mmap_mode='r',allow_pickle=True)"
   ]
  },
  {
   "cell_type": "code",
   "execution_count": 205,
   "metadata": {},
   "outputs": [],
   "source": [
    "shower_neutrino_energy =file_2['shower_neutrino_energy']['value']\n",
    "shower_neutrino_zenith =file_2['shower_neutrino_zenith']['value']\n",
    "shower_neutrino_type =file_2['shower_neutrino_type']['value']\n",
    "shower_neutrino_depth =file_2['shower_neutrino_depth']['value']\n",
    "Muon_Uncorr_L1_energy = file_2['Muon_UnCorr_Energy_L1']['value']\n",
    "Muon_Uncorr_L2_energy = file_2['Muon_UnCorr_Energy_L2']['value']\n",
    "weight = file_2['GaisserH4a_weight']['item']\n",
    "eventheader = file_2['I3EventHeader']"
   ]
  },
  {
   "cell_type": "code",
   "execution_count": 206,
   "metadata": {},
   "outputs": [],
   "source": [
    "E_nu_bins=np.logspace(1,8,10+1)\n",
    "nu_bin_centers = np.sqrt(E_nu_bins[:-1] * E_nu_bins[1:])\n",
    "E_mu_bins=np.logspace(-1,8,10+1)\n",
    "mu_bin_centers = np.sqrt(E_mu_bins[:-1] * E_mu_bins[1:])"
   ]
  },
  {
   "cell_type": "code",
   "execution_count": 207,
   "metadata": {},
   "outputs": [],
   "source": [
    "MuonEnergyThreshMask=[energy>10. for energy in Muon_Uncorr_L1_energy]\n",
    "Energy_Shower_Neutrino=np.float32(shower_neutrino_energy[MuonEnergyThreshMask])\n",
    "Flavour_Shower_Neutrino=np.float32(shower_neutrino_type[MuonEnergyThreshMask])\n",
    "Muon_UNCorr_Energy_L1 = Muon_Uncorr_L1_energy[MuonEnergyThreshMask]\n",
    "Muon_UNCorr_Energy_L2 = Muon_Uncorr_L2_energy[MuonEnergyThreshMask]\n",
    "GaisserH4a_weight = weight[MuonEnergyThreshMask]"
   ]
  },
  {
   "cell_type": "code",
   "execution_count": 208,
   "metadata": {},
   "outputs": [
    {
     "name": "stdout",
     "output_type": "stream",
     "text": [
      "len mult mask 1\n",
      "MultiplicityLen 537\n",
      "angle mask len 925\n",
      "depth mask len 2220\n"
     ]
    }
   ],
   "source": [
    "Multiplicity_Flavor_Mask=[np.logical_and(SingleMuonMask,Flavour_Mask)]\n",
    "print('len mult mask', len(Multiplicity_Flavor_Mask))\n",
    "print('MultiplicityLen',np.sum(Multiplicity_Flavor_Mask))\n",
    "print('angle mask len', np.sum(Angle_Mask))\n",
    "print('depth mask len', np.sum(Depth_Mask))"
   ]
  },
  {
   "cell_type": "code",
   "execution_count": 209,
   "metadata": {},
   "outputs": [
    {
     "name": "stdout",
     "output_type": "stream",
     "text": [
      "AD mask sum 46\n",
      "E1 AD [ 218.29759187  318.0026064    10.52756352  158.02276806  403.28213878\n",
      "  120.63948732  778.28095915  175.05027465   18.9079255    60.20140716\n",
      "  610.4767038  2121.54667059   14.03696827 1533.38603219  211.43257833\n",
      "  220.50759056  185.68471667  536.44772736   13.5569775   543.74877343\n",
      "  176.62667342  517.055455    469.10386022  277.71645717   27.14620282\n",
      "  561.16266695   53.24302166  917.29263712 4833.70797255  296.92125235\n",
      "   13.13864848   98.36056157  450.85602081  468.01707272   14.37397507\n",
      "  274.68557489  184.5326544   905.73233122   21.72194513   19.15396425\n",
      "  142.6600463   419.73734344  479.71663394   14.84581335   14.2254409\n",
      "  239.69686143]\n",
      "I AM IN HERE\n"
     ]
    }
   ],
   "source": [
    "##ADmask is combined mask of multiplicity, flavour, angle, and depth\n",
    "for multmask in Multiplicity_Flavor_Mask:\n",
    "    ADmask=np.logical_and.reduce((Angle_Mask,Depth_Mask,multmask))\n",
    "    print('AD mask sum',np.sum(ADmask))\n",
    "    print('E1 AD',Muon_UNCorr_Energy_L1[ADmask])\n",
    "    if np.sum(ADmask)>0:\n",
    "        print('I AM IN HERE')"
   ]
  },
  {
   "cell_type": "code",
   "execution_count": 211,
   "metadata": {},
   "outputs": [
    {
     "name": "stdout",
     "output_type": "stream",
     "text": [
      "2234.3303\n",
      "1.7075961\n",
      "4833.707972545858\n",
      "10.52756351847467\n",
      "[[0.         0.         0.01247874 0.35058855 0.18839745 0.\n",
      "  0.         0.         0.         0.        ]\n",
      " [0.         0.         0.10435406 0.03336545 0.11876445 0.\n",
      "  0.         0.         0.         0.        ]\n",
      " [0.         0.         0.00156697 0.03079519 0.13066226 0.\n",
      "  0.         0.         0.         0.        ]\n",
      " [0.         0.         0.00495513 0.02407175 0.         0.\n",
      "  0.         0.         0.         0.        ]\n",
      " [0.         0.         0.         0.         0.         0.\n",
      "  0.         0.         0.         0.        ]\n",
      " [0.         0.         0.         0.         0.         0.\n",
      "  0.         0.         0.         0.        ]\n",
      " [0.         0.         0.         0.         0.         0.\n",
      "  0.         0.         0.         0.        ]\n",
      " [0.         0.         0.         0.         0.         0.\n",
      "  0.         0.         0.         0.        ]\n",
      " [0.         0.         0.         0.         0.         0.\n",
      "  0.         0.         0.         0.        ]\n",
      " [0.         0.         0.         0.         0.         0.\n",
      "  0.         0.         0.         0.        ]]\n",
      "18\n"
     ]
    }
   ],
   "source": [
    "Hist2D,xedges,yedges = np.histogram2d(Energy_Shower_Neutrino[ADmask], \n",
    "                                            Muon_UNCorr_Energy_L1[ADmask], \n",
    "                                            bins = [E_nu_bins,E_mu_bins], \n",
    "                                            weights = GaisserH4a_weight[ADmask])\n",
    "print(np.max(Energy_Shower_Neutrino[ADmask]))\n",
    "print(np.min(Energy_Shower_Neutrino[ADmask]))\n",
    "print(np.max(Muon_UNCorr_Energy_L1[ADmask]))\n",
    "print(np.min(Muon_UNCorr_Energy_L1[ADmask]))\n",
    "# Calculate the total number of counts in the histogram\n",
    "total_counts = np.sum(Hist2D)\n",
    "\n",
    "# Normalize the histogram by dividing each bin's value by the total counts\n",
    "normalized_hist2d = Hist2D / total_counts\n",
    "print(normalized_hist2d)\n",
    "print(np.argmax(Energy_Shower_Neutrino[ADmask]))\n",
    "#print(Energy_Shower_Neutrino[ADmask][62])\n",
    "#print(Muon_UNCorr_Energy_L1[ADmask][62])\n",
    "#Each bin's value represents the probability of an event falling into that bin."
   ]
  },
  {
   "cell_type": "code",
   "execution_count": 212,
   "metadata": {},
   "outputs": [
    {
     "data": {
      "text/plain": [
       "(0.1, 100000000)"
      ]
     },
     "execution_count": 212,
     "metadata": {},
     "output_type": "execute_result"
    },
    {
     "data": {
      "image/png": "[encoded data removed]",
      "text/plain": [
       "<Figure size 1200x1200 with 2 Axes>"
      ]
     },
     "metadata": {
      "needs_background": "light"
     },
     "output_type": "display_data"
    }
   ],
   "source": [
    "f, ax = plt.subplots(1,1,figsize=(8,8), dpi = 150)\n",
    "mpl.rcParams[\"font.family\"] = 'monospace'\n",
    "COLOR = 'black'\n",
    "mpl.rcParams['text.color'] = COLOR\n",
    "mpl.rcParams['axes.labelcolor'] = COLOR\n",
    "mpl.rcParams['xtick.color'] = COLOR\n",
    "mpl.rcParams['ytick.color'] = COLOR\n",
    "vmin = 10**(-4)\n",
    "vmax = 1\n",
    "im=ax.pcolormesh(E_nu_bins, E_mu_bins,normalized_hist2d.T,\n",
    "                 cmap='turbo',norm=clrs.LogNorm(vmin=vmin, vmax=vmax))\n",
    "f.colorbar(im)\n",
    "ax.set_title('Histogram')\n",
    "ax.set_xscale('log')\n",
    "ax.set_yscale('log')\n",
    "ax.set_xlabel('Energy of Shower Neutrino(GeV)')\n",
    "ax.set_ylabel('Energy of Leading Muon (GeV)')\n",
    "\n",
    "\n",
    "ax.set_xlim(10**1,10**8)\n",
    "ax.set_ylim(10**-1,10**8)"
   ]
  },
  {
   "cell_type": "code",
   "execution_count": 176,
   "metadata": {},
   "outputs": [
    {
     "name": "stdout",
     "output_type": "stream",
     "text": [
      "AD mask sum 104\n",
      "E1 AD [1998.58569071 1031.78174297  650.73756142  265.35924286  547.59548447\n",
      "  303.38487434   59.95102253  102.98855628  505.04996111   15.48541281\n",
      "  308.30043572  489.21946027  161.76813398  630.0672522   399.21927697\n",
      " 1170.87535389  406.23719898  628.98670943  264.03037139  343.8838543\n",
      "  622.34499898  548.36924626 5002.65828426  342.62376789  520.17289808\n",
      "  364.618301   2526.68799966  206.51020339  239.25890852  553.06208903\n",
      "  446.01632288 4426.21482306  945.53790998  328.98244844  511.68743051\n",
      " 1416.10597259 1416.10597259  373.73264152  724.17726576  788.99270684\n",
      "   90.73338784  359.25134742  250.14855943  306.51500774  957.09587161\n",
      "  223.91137268   34.69051195  644.49560978  390.47386782   91.75684645\n",
      " 1842.68943821  268.71560963  686.89151342  218.62854002 1231.27597595\n",
      "  144.60381935  569.25319129  261.85761209  338.85390543 1058.94183625\n",
      "  299.65272659  436.86747905   19.20878981  517.3147967   566.55991653\n",
      "  250.09317953  176.60492439  418.84197628   10.50916881  440.31812482\n",
      "  643.20157927  106.79578976  629.96690308  162.38518385  291.33834939\n",
      "  180.31361848  419.25959783  369.52633051 5992.06387695  226.30110702\n",
      "  201.16253852  340.51972745  350.65007547  435.00540923  334.66319903\n",
      "  682.47206804  113.9278712   594.81681575  415.41105126  309.59310824\n",
      "  479.55974042  207.1206924   353.31806497  664.8390806   272.45533663\n",
      "   44.51211115 1558.28704601  137.89185827  512.41842225  167.10486455\n",
      "   69.37067263  264.16871006  182.61683159  263.35051852]\n",
      "E2 AD [3.02999942e+02 1.95501507e+01 4.83847638e+02 6.11447402e+00\n",
      " 4.35276227e+01 1.34874692e+02 4.64849845e+00 9.15452905e+01\n",
      " 1.51784323e+02 1.25953182e+01 5.41103626e+01 6.44985240e+01\n",
      " 1.17045052e+02 1.41867871e+01 4.36616319e+01 2.83048753e+01\n",
      " 2.44871328e+02 2.57485622e+02 1.63462691e+02 2.83936457e+02\n",
      " 9.56803210e+01 3.78231004e+02 3.62678359e+01 7.81591649e+01\n",
      " 3.16444122e+01 4.28166971e+01 8.06393116e+02 5.94561854e+00\n",
      " 5.29708773e+01 6.71186610e+01 6.34812180e+00 2.98848231e+00\n",
      " 3.54683315e+02 5.65346710e+01 1.51931140e+02 5.38468064e+01\n",
      " 5.38468064e+01 1.51861954e+02 3.66939700e+02 2.57866842e+02\n",
      " 1.11642253e+01 1.63629090e+02 1.12495840e+02 1.07422545e+02\n",
      " 2.62665197e+02 2.23819878e+01 4.11202500e+00 5.83256242e+02\n",
      " 3.05884552e+02 3.02114480e+01 1.25503302e+03 1.15855056e+02\n",
      " 9.21828751e+01 4.11749958e+01 2.02890786e+01 1.42568715e+02\n",
      " 3.28768227e+01 1.13284846e+02 2.53812939e+02 2.16927838e+02\n",
      " 2.28217517e+01 3.05921721e+02 9.93444685e-01 4.88490383e+00\n",
      " 1.96993961e+02 7.24102415e+00 4.14806774e+00 1.17017891e+02\n",
      " 1.69189515e+00 2.59362696e+02 2.04987325e+02 1.98526632e+01\n",
      " 2.39178080e+02 6.20663507e+01 7.24680719e+01 2.96037181e+01\n",
      " 9.01539992e+01 1.93128331e+01 2.46705307e+01 2.63402502e+01\n",
      " 2.89437544e+01 1.36107962e+02 2.15823936e+02 1.54021218e+02\n",
      " 1.30715956e+02 6.49193294e+01 4.04125846e+01 2.93223596e+02\n",
      " 2.17658310e+02 2.70967684e+02 1.20512725e+02 1.00344930e+01\n",
      " 9.48319700e+01 6.87359801e+01 2.43752851e+02 3.06724711e+01\n",
      " 5.85662192e+02 1.25690881e+00 6.80219898e+01 6.39285091e+01\n",
      " 3.12542096e+01 3.20528292e+01 1.42360789e+02 1.68713889e+02]\n",
      "I aint empty\n"
     ]
    }
   ],
   "source": [
    "DoubleMuon_Flavour_Mask=[np.logical_and(DoubleMuonMask,Flavour_Mask)]\n",
    "for multmask in DoubleMuon_Flavour_Mask:\n",
    "    \n",
    "    ADmask=np.logical_and.reduce((Angle_Mask,Depth_Mask,multmask))\n",
    "    print('AD mask sum',np.sum(ADmask))\n",
    "    print('E1 AD',Muon_UNCorr_Energy_L1[ADmask])\n",
    "    print('E2 AD',Muon_UNCorr_Energy_L2[ADmask])\n",
    "    if np.sum(ADmask)>0:\n",
    "        print('I aint empty')"
   ]
  },
  {
   "cell_type": "code",
   "execution_count": 180,
   "metadata": {},
   "outputs": [
    {
     "name": "stdout",
     "output_type": "stream",
     "text": [
      "1.0\n",
      "test_index:  0\n",
      "[[0.         0.         0.         0.         0.         0.\n",
      "  0.         0.         0.         0.        ]\n",
      " [0.         0.         0.         0.         0.         0.\n",
      "  0.         0.         0.         0.        ]\n",
      " [0.         0.         0.00019711 0.         0.         0.\n",
      "  0.         0.         0.         0.        ]\n",
      " [0.         0.0004787  0.00189602 0.00826407 0.         0.\n",
      "  0.         0.         0.         0.        ]\n",
      " [0.         0.         0.00091756 0.00527441 0.00199878 0.\n",
      "  0.         0.         0.         0.        ]\n",
      " [0.         0.         0.         0.         0.         0.\n",
      "  0.         0.         0.         0.        ]\n",
      " [0.         0.         0.         0.         0.         0.\n",
      "  0.         0.         0.         0.        ]\n",
      " [0.         0.         0.         0.         0.         0.\n",
      "  0.         0.         0.         0.        ]\n",
      " [0.         0.         0.         0.         0.         0.\n",
      "  0.         0.         0.         0.        ]\n",
      " [0.         0.         0.         0.         0.         0.\n",
      "  0.         0.         0.         0.        ]]\n",
      "1.7\n",
      "test_index:  1\n",
      "[[0.         0.         0.         0.         0.         0.\n",
      "  0.         0.         0.         0.        ]\n",
      " [0.         0.         0.         0.         0.         0.\n",
      "  0.         0.         0.         0.        ]\n",
      " [0.         0.         0.         0.         0.         0.\n",
      "  0.         0.         0.         0.        ]\n",
      " [0.         0.         0.         0.00245548 0.         0.\n",
      "  0.         0.         0.         0.        ]\n",
      " [0.         0.         0.00131882 0.00067332 0.00027808 0.\n",
      "  0.         0.         0.         0.        ]\n",
      " [0.         0.00028888 0.         0.         0.         0.\n",
      "  0.         0.         0.         0.        ]\n",
      " [0.         0.         0.         0.         0.         0.\n",
      "  0.         0.         0.         0.        ]\n",
      " [0.         0.         0.         0.         0.         0.\n",
      "  0.         0.         0.         0.        ]\n",
      " [0.         0.         0.         0.         0.         0.\n",
      "  0.         0.         0.         0.        ]\n",
      " [0.         0.         0.         0.         0.         0.\n",
      "  0.         0.         0.         0.        ]]\n",
      "2.4\n",
      "test_index:  2\n",
      "[[0.00000000e+00 0.00000000e+00 0.00000000e+00 0.00000000e+00\n",
      "  0.00000000e+00 0.00000000e+00 0.00000000e+00 0.00000000e+00\n",
      "  0.00000000e+00 0.00000000e+00]\n",
      " [0.00000000e+00 0.00000000e+00 0.00000000e+00 0.00000000e+00\n",
      "  0.00000000e+00 0.00000000e+00 0.00000000e+00 0.00000000e+00\n",
      "  0.00000000e+00 0.00000000e+00]\n",
      " [0.00000000e+00 6.12673536e-07 2.70237430e-07 0.00000000e+00\n",
      "  0.00000000e+00 0.00000000e+00 0.00000000e+00 0.00000000e+00\n",
      "  0.00000000e+00 0.00000000e+00]\n",
      " [0.00000000e+00 2.32161636e-05 4.32180353e-04 0.00000000e+00\n",
      "  0.00000000e+00 0.00000000e+00 0.00000000e+00 0.00000000e+00\n",
      "  0.00000000e+00 0.00000000e+00]\n",
      " [0.00000000e+00 0.00000000e+00 0.00000000e+00 0.00000000e+00\n",
      "  0.00000000e+00 0.00000000e+00 0.00000000e+00 0.00000000e+00\n",
      "  0.00000000e+00 0.00000000e+00]\n",
      " [0.00000000e+00 0.00000000e+00 0.00000000e+00 0.00000000e+00\n",
      "  0.00000000e+00 0.00000000e+00 0.00000000e+00 0.00000000e+00\n",
      "  0.00000000e+00 0.00000000e+00]\n",
      " [0.00000000e+00 0.00000000e+00 0.00000000e+00 0.00000000e+00\n",
      "  0.00000000e+00 0.00000000e+00 0.00000000e+00 0.00000000e+00\n",
      "  0.00000000e+00 0.00000000e+00]\n",
      " [0.00000000e+00 0.00000000e+00 0.00000000e+00 0.00000000e+00\n",
      "  0.00000000e+00 0.00000000e+00 0.00000000e+00 0.00000000e+00\n",
      "  0.00000000e+00 0.00000000e+00]\n",
      " [0.00000000e+00 0.00000000e+00 0.00000000e+00 0.00000000e+00\n",
      "  0.00000000e+00 0.00000000e+00 0.00000000e+00 0.00000000e+00\n",
      "  0.00000000e+00 0.00000000e+00]\n",
      " [0.00000000e+00 0.00000000e+00 0.00000000e+00 0.00000000e+00\n",
      "  0.00000000e+00 0.00000000e+00 0.00000000e+00 0.00000000e+00\n",
      "  0.00000000e+00 0.00000000e+00]]\n",
      "3.0999999999999996\n",
      "test_index:  3\n",
      "[[0.00000000e+00 0.00000000e+00 0.00000000e+00 0.00000000e+00\n",
      "  0.00000000e+00 0.00000000e+00 0.00000000e+00 0.00000000e+00\n",
      "  0.00000000e+00 0.00000000e+00]\n",
      " [0.00000000e+00 0.00000000e+00 0.00000000e+00 0.00000000e+00\n",
      "  0.00000000e+00 0.00000000e+00 0.00000000e+00 0.00000000e+00\n",
      "  0.00000000e+00 0.00000000e+00]\n",
      " [0.00000000e+00 1.33835846e-05 0.00000000e+00 0.00000000e+00\n",
      "  0.00000000e+00 0.00000000e+00 0.00000000e+00 0.00000000e+00\n",
      "  0.00000000e+00 0.00000000e+00]\n",
      " [0.00000000e+00 0.00000000e+00 0.00000000e+00 0.00000000e+00\n",
      "  0.00000000e+00 0.00000000e+00 0.00000000e+00 0.00000000e+00\n",
      "  0.00000000e+00 0.00000000e+00]\n",
      " [0.00000000e+00 0.00000000e+00 0.00000000e+00 0.00000000e+00\n",
      "  0.00000000e+00 0.00000000e+00 0.00000000e+00 0.00000000e+00\n",
      "  0.00000000e+00 0.00000000e+00]\n",
      " [0.00000000e+00 0.00000000e+00 0.00000000e+00 0.00000000e+00\n",
      "  0.00000000e+00 0.00000000e+00 0.00000000e+00 0.00000000e+00\n",
      "  0.00000000e+00 0.00000000e+00]\n",
      " [0.00000000e+00 0.00000000e+00 0.00000000e+00 0.00000000e+00\n",
      "  0.00000000e+00 0.00000000e+00 0.00000000e+00 0.00000000e+00\n",
      "  0.00000000e+00 0.00000000e+00]\n",
      " [0.00000000e+00 0.00000000e+00 0.00000000e+00 0.00000000e+00\n",
      "  0.00000000e+00 0.00000000e+00 0.00000000e+00 0.00000000e+00\n",
      "  0.00000000e+00 0.00000000e+00]\n",
      " [0.00000000e+00 0.00000000e+00 0.00000000e+00 0.00000000e+00\n",
      "  0.00000000e+00 0.00000000e+00 0.00000000e+00 0.00000000e+00\n",
      "  0.00000000e+00 0.00000000e+00]\n",
      " [0.00000000e+00 0.00000000e+00 0.00000000e+00 0.00000000e+00\n",
      "  0.00000000e+00 0.00000000e+00 0.00000000e+00 0.00000000e+00\n",
      "  0.00000000e+00 0.00000000e+00]]\n",
      "3.8\n",
      "test_index:  4\n",
      "[[0. 0. 0. 0. 0. 0. 0. 0. 0. 0.]\n",
      " [0. 0. 0. 0. 0. 0. 0. 0. 0. 0.]\n",
      " [0. 0. 0. 0. 0. 0. 0. 0. 0. 0.]\n",
      " [0. 0. 0. 0. 0. 0. 0. 0. 0. 0.]\n",
      " [0. 0. 0. 0. 0. 0. 0. 0. 0. 0.]\n",
      " [0. 0. 0. 0. 0. 0. 0. 0. 0. 0.]\n",
      " [0. 0. 0. 0. 0. 0. 0. 0. 0. 0.]\n",
      " [0. 0. 0. 0. 0. 0. 0. 0. 0. 0.]\n",
      " [0. 0. 0. 0. 0. 0. 0. 0. 0. 0.]\n",
      " [0. 0. 0. 0. 0. 0. 0. 0. 0. 0.]]\n",
      "4.5\n",
      "test_index:  5\n",
      "[[0. 0. 0. 0. 0. 0. 0. 0. 0. 0.]\n",
      " [0. 0. 0. 0. 0. 0. 0. 0. 0. 0.]\n",
      " [0. 0. 0. 0. 0. 0. 0. 0. 0. 0.]\n",
      " [0. 0. 0. 0. 0. 0. 0. 0. 0. 0.]\n",
      " [0. 0. 0. 0. 0. 0. 0. 0. 0. 0.]\n",
      " [0. 0. 0. 0. 0. 0. 0. 0. 0. 0.]\n",
      " [0. 0. 0. 0. 0. 0. 0. 0. 0. 0.]\n",
      " [0. 0. 0. 0. 0. 0. 0. 0. 0. 0.]\n",
      " [0. 0. 0. 0. 0. 0. 0. 0. 0. 0.]\n",
      " [0. 0. 0. 0. 0. 0. 0. 0. 0. 0.]]\n",
      "5.199999999999999\n",
      "test_index:  6\n",
      "[[0. 0. 0. 0. 0. 0. 0. 0. 0. 0.]\n",
      " [0. 0. 0. 0. 0. 0. 0. 0. 0. 0.]\n",
      " [0. 0. 0. 0. 0. 0. 0. 0. 0. 0.]\n",
      " [0. 0. 0. 0. 0. 0. 0. 0. 0. 0.]\n",
      " [0. 0. 0. 0. 0. 0. 0. 0. 0. 0.]\n",
      " [0. 0. 0. 0. 0. 0. 0. 0. 0. 0.]\n",
      " [0. 0. 0. 0. 0. 0. 0. 0. 0. 0.]\n",
      " [0. 0. 0. 0. 0. 0. 0. 0. 0. 0.]\n",
      " [0. 0. 0. 0. 0. 0. 0. 0. 0. 0.]\n",
      " [0. 0. 0. 0. 0. 0. 0. 0. 0. 0.]]\n",
      "5.8999999999999995\n",
      "test_index:  7\n",
      "[[0. 0. 0. 0. 0. 0. 0. 0. 0. 0.]\n",
      " [0. 0. 0. 0. 0. 0. 0. 0. 0. 0.]\n",
      " [0. 0. 0. 0. 0. 0. 0. 0. 0. 0.]\n",
      " [0. 0. 0. 0. 0. 0. 0. 0. 0. 0.]\n",
      " [0. 0. 0. 0. 0. 0. 0. 0. 0. 0.]\n",
      " [0. 0. 0. 0. 0. 0. 0. 0. 0. 0.]\n",
      " [0. 0. 0. 0. 0. 0. 0. 0. 0. 0.]\n",
      " [0. 0. 0. 0. 0. 0. 0. 0. 0. 0.]\n",
      " [0. 0. 0. 0. 0. 0. 0. 0. 0. 0.]\n",
      " [0. 0. 0. 0. 0. 0. 0. 0. 0. 0.]]\n",
      "6.6\n",
      "test_index:  8\n",
      "[[0. 0. 0. 0. 0. 0. 0. 0. 0. 0.]\n",
      " [0. 0. 0. 0. 0. 0. 0. 0. 0. 0.]\n",
      " [0. 0. 0. 0. 0. 0. 0. 0. 0. 0.]\n",
      " [0. 0. 0. 0. 0. 0. 0. 0. 0. 0.]\n",
      " [0. 0. 0. 0. 0. 0. 0. 0. 0. 0.]\n",
      " [0. 0. 0. 0. 0. 0. 0. 0. 0. 0.]\n",
      " [0. 0. 0. 0. 0. 0. 0. 0. 0. 0.]\n",
      " [0. 0. 0. 0. 0. 0. 0. 0. 0. 0.]\n",
      " [0. 0. 0. 0. 0. 0. 0. 0. 0. 0.]\n",
      " [0. 0. 0. 0. 0. 0. 0. 0. 0. 0.]]\n",
      "7.3\n",
      "test_index:  9\n",
      "[[0. 0. 0. 0. 0. 0. 0. 0. 0. 0.]\n",
      " [0. 0. 0. 0. 0. 0. 0. 0. 0. 0.]\n",
      " [0. 0. 0. 0. 0. 0. 0. 0. 0. 0.]\n",
      " [0. 0. 0. 0. 0. 0. 0. 0. 0. 0.]\n",
      " [0. 0. 0. 0. 0. 0. 0. 0. 0. 0.]\n",
      " [0. 0. 0. 0. 0. 0. 0. 0. 0. 0.]\n",
      " [0. 0. 0. 0. 0. 0. 0. 0. 0. 0.]\n",
      " [0. 0. 0. 0. 0. 0. 0. 0. 0. 0.]\n",
      " [0. 0. 0. 0. 0. 0. 0. 0. 0. 0.]\n",
      " [0. 0. 0. 0. 0. 0. 0. 0. 0. 0.]]\n"
     ]
    }
   ],
   "source": [
    "stackarray=np.stack((Muon_UNCorr_Energy_L1[ADmask],\n",
    "                     Muon_UNCorr_Energy_L2[ADmask],\n",
    "                     Energy_Shower_Neutrino[ADmask]),axis=1)\n",
    "#print(stackarray)\n",
    "Hist3D,edges=np.histogramdd(stackarray,\n",
    "                            bins=(E_mu_bins,E_mu_bins,E_nu_bins),\n",
    "                            weights=GaisserH4a_weight[ADmask])\n",
    "#print(Hist3D)\n",
    "for test_index in range(len(E_nu_bins)-1):\n",
    "    test_nu_energy=E_nu_bins[test_index]\n",
    "    Hist2D=Hist3D[:,:,test_index]\n",
    "    print(np.log10(test_nu_energy))\n",
    "    print('test_index: ',test_index)\n",
    "    print(Hist2D)"
   ]
  },
  {
   "cell_type": "code",
   "execution_count": 169,
   "metadata": {},
   "outputs": [],
   "source": [
    "# Calculate the total number of counts in the histogram\n",
    "total_counts = np.sum(Hist3D)\n",
    "\n",
    "# Normalize the histogram by dividing each bin's value by the total counts\n",
    "normalized_hist3d = Hist3D / total_counts"
   ]
  },
  {
   "cell_type": "code",
   "execution_count": 170,
   "metadata": {},
   "outputs": [
    {
     "data": {
      "text/plain": [
       "(0.1, 100000000)"
      ]
     },
     "execution_count": 170,
     "metadata": {},
     "output_type": "execute_result"
    },
    {
     "data": {
      "image/png": "[encoded data removed]",
      "text/plain": [
       "<Figure size 1200x1200 with 2 Axes>"
      ]
     },
     "metadata": {
      "needs_background": "light"
     },
     "output_type": "display_data"
    }
   ],
   "source": [
    "f, ax = plt.subplots(1,1,figsize=(8,8), dpi = 150)\n",
    "mpl.rcParams[\"font.family\"] = 'monospace'\n",
    "COLOR = 'black'\n",
    "mpl.rcParams['text.color'] = COLOR\n",
    "mpl.rcParams['axes.labelcolor'] = COLOR\n",
    "mpl.rcParams['xtick.color'] = COLOR\n",
    "mpl.rcParams['ytick.color'] = COLOR\n",
    "vmin = 10**(-8)\n",
    "vmax = 1\n",
    "im=ax.pcolormesh(E_mu_bins, E_mu_bins,normalized_hist3d[:,:,2].T,\n",
    "                 cmap='turbo',norm=clrs.LogNorm(vmin=vmin, vmax=vmax))\n",
    "f.colorbar(im)\n",
    "ax.set_title('Histogram')\n",
    "ax.set_xscale('log')\n",
    "ax.set_yscale('log')\n",
    "ax.set_xlabel('Energy of Leading Muon (GeV)')\n",
    "ax.set_ylabel('Energy of 2nd Leading Muon (GeV)')\n",
    "\n",
    "\n",
    "ax.set_xlim(10**-1,10**8)\n",
    "ax.set_ylim(10**-1,10**8)"
   ]
  },
  {
   "cell_type": "code",
   "execution_count": 186,
   "metadata": {},
   "outputs": [
    {
     "data": {
      "text/plain": [
       "array([(52100001,   4, 0, 0, 1, 130612472805711614, 59000.17184353, 130612472805842978, 59000.17184353),\n",
       "       (52100001,  13, 0, 0, 1, 130612472805765254, 59000.17184353, 130612472805888924, 59000.17184353),\n",
       "       (52100001,  54, 0, 0, 1, 130612472805720520, 59000.17184353, 130612472805906955, 59000.17184353),\n",
       "       (52100001,  91, 0, 0, 1, 130612472805805071, 59000.17184353, 130612472805937220, 59000.17184353),\n",
       "       (52100001, 100, 0, 0, 1, 130612472805719610, 59000.17184353, 130612472805824463, 59000.17184353)],\n",
       "      dtype={'names':['Run','Event','SubEvent','SubEventStream','exists','time_start_utc_daq','time_start_mjd','time_end_utc_daq','time_end_mjd'], 'formats':['<u4','<u4','<u4','<i4','u1','<i8','<f8','<i8','<f8'], 'offsets':[0,4,8,12,16,24,32,40,48], 'itemsize':64})"
      ]
     },
     "execution_count": 186,
     "metadata": {},
     "output_type": "execute_result"
    }
   ],
   "source": [
    "eventheader[:5]"
   ]
  },
  {
   "cell_type": "code",
   "execution_count": null,
   "metadata": {},
   "outputs": [],
   "source": []
  }
 ],
 "metadata": {
  "kernelspec": {
   "display_name": "Python 3",
   "language": "python",
   "name": "python3"
  },
  "language_info": {
   "codemirror_mode": {
    "name": "ipython",
    "version": 3
   },
   "file_extension": ".py",
   "mimetype": "text/x-python",
   "name": "python",
   "nbconvert_exporter": "python",
   "pygments_lexer": "ipython3",
   "version": "3.7.5"
  }
 },
 "nbformat": 4,
 "nbformat_minor": 2
}
