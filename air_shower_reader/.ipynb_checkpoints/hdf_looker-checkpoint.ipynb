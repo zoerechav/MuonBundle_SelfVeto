{
 "cells": [
  {
   "cell_type": "code",
   "execution_count": 1,
   "metadata": {},
   "outputs": [],
   "source": [
    "import numpy as np\n",
    "import h5py\n",
    "import matplotlib.pyplot as plt\n",
    "from scipy.interpolate import griddata\n",
    "from matplotlib import colors as clrs\n",
    "import matplotlib as mpl\n",
    "%matplotlib inline"
   ]
  },
  {
   "cell_type": "code",
   "execution_count": 2,
   "metadata": {},
   "outputs": [],
   "source": [
    "path_2 = '/data/user/zrechav/compiled_hdf5s/airshowered_corsika/Corsika_20904_5000.hdf5'\n",
    "#path_2 = '/home/zrechav/test/AirShowerReader.hdf5'\n",
    "file_2 = h5py.File(path_2,'r')"
   ]
  },
  {
   "cell_type": "code",
   "execution_count": 3,
   "metadata": {},
   "outputs": [
    {
     "data": {
      "text/plain": [
       "['CorsikaWeightMap',\n",
       " 'GaisserH4a_weight',\n",
       " 'I3EventHeader',\n",
       " 'MuonMultiplicity_UnCorr',\n",
       " 'Muon_UnCorr_Energy_L1',\n",
       " 'Muon_UnCorr_Energy_L2',\n",
       " 'Muon_UnCorr_Energy_L3',\n",
       " 'Muon_UnCorr_Energy_L4',\n",
       " 'Muon_UnCorr_Energy_L5',\n",
       " 'Muon_UnCorr_L1',\n",
       " 'Muon_UnCorr_L1_Depth',\n",
       " 'Muon_UnCorr_L1_Neutrino_separation',\n",
       " 'Muon_UnCorr_L1_Shower_separation',\n",
       " 'Muon_UnCorr_L2',\n",
       " 'Muon_UnCorr_L2_Depth',\n",
       " 'Muon_UnCorr_L2_Neutrino_separation',\n",
       " 'Muon_UnCorr_L2_Shower_separation',\n",
       " 'Muon_UnCorr_L3',\n",
       " 'Muon_UnCorr_L3_Depth',\n",
       " 'Muon_UnCorr_L3_Neutrino_separation',\n",
       " 'Muon_UnCorr_L3_Shower_separation',\n",
       " 'Muon_UnCorr_L4',\n",
       " 'Muon_UnCorr_L4_Depth',\n",
       " 'Muon_UnCorr_L4_Neutrino_separation',\n",
       " 'Muon_UnCorr_L4_Shower_separation',\n",
       " 'Muon_UnCorr_L5',\n",
       " 'Muon_UnCorr_L5_Depth',\n",
       " 'Muon_UnCorr_L5_Neutrino_separation',\n",
       " 'Muon_UnCorr_L5_Shower_separation',\n",
       " 'PolyplopiaPrimary',\n",
       " 'PolyplopiaPrimaryCopy',\n",
       " 'PrimaryMass',\n",
       " 'ShowerNeutrino',\n",
       " 'Total_UnCorr_Muon_energy',\n",
       " '__I3Index__',\n",
       " 'shower_neutrino_depth',\n",
       " 'shower_neutrino_energy',\n",
       " 'shower_neutrino_type',\n",
       " 'shower_neutrino_zenith',\n",
       " 'z_inter']"
      ]
     },
     "execution_count": 3,
     "metadata": {},
     "output_type": "execute_result"
    }
   ],
   "source": [
    "sorted(file_2.keys())"
   ]
  },
  {
   "cell_type": "code",
   "execution_count": 4,
   "metadata": {},
   "outputs": [
    {
     "name": "stdout",
     "output_type": "stream",
     "text": [
      "The number of nonzero elements in the array is: 4\n"
     ]
    }
   ],
   "source": [
    "def count_nonzero_elements(arr):\n",
    "    count = 0\n",
    "    for element in arr:\n",
    "        if element != 0:\n",
    "            count += 1\n",
    "    return count\n",
    "\n",
    "# Example usage:\n",
    "my_array = [1, 0, 3, 0, 5, 0, 7]\n",
    "result = count_nonzero_elements(my_array)\n",
    "print(f\"The number of nonzero elements in the array is: {result}\")"
   ]
  },
  {
   "cell_type": "code",
   "execution_count": 7,
   "metadata": {},
   "outputs": [],
   "source": [
    "\n",
    "uncorr_energy_one = file_2['Muon_UnCorr_L1']['energy']\n",
    "uncorr_energy_two = file_2['Muon_UnCorr_L2']['energy']\n",
    "uncorr_energy_three = file_2['Muon_UnCorr_L3']['energy']\n",
    "uncorr_energy_four = file_2['Muon_UnCorr_L4']['energy']\n",
    "uncorr_energy_five = file_2['Muon_UnCorr_L5']['energy']\n",
    "\n"
   ]
  },
  {
   "cell_type": "code",
   "execution_count": 5,
   "metadata": {},
   "outputs": [
    {
     "name": "stdout",
     "output_type": "stream",
     "text": [
      "Total Events:  7030110\n",
      "Nonzero elements of L1: 2049\n",
      "Nonzero elements of L2: 584\n",
      "Nonzero elements of L3: 438\n",
      "Nonzero elements of L4: 389\n",
      "Nonzero elements of L5: 338\n"
     ]
    }
   ],
   "source": [
    "test_one = file_2['Muon_UnCorr_Energy_L1']['value']\n",
    "test_two = file_2['Muon_UnCorr_Energy_L2']['value']\n",
    "test_three = file_2['Muon_UnCorr_Energy_L3']['value']\n",
    "test_four = file_2['Muon_UnCorr_Energy_L4']['value']\n",
    "test_five = file_2['Muon_UnCorr_Energy_L5']['value']\n",
    "print('Total Events: ',len(test_one))\n",
    "result_one = count_nonzero_elements(test_one)\n",
    "print(f\"Nonzero elements of L1: {result_one}\")\n",
    "result_two = count_nonzero_elements(test_two)\n",
    "print(f\"Nonzero elements of L2: {result_two}\")\n",
    "result_three = count_nonzero_elements(test_three)\n",
    "print(f\"Nonzero elements of L3: {result_three}\")\n",
    "result_four = count_nonzero_elements(test_four)\n",
    "print(f\"Nonzero elements of L4: {result_four}\")\n",
    "result_five = count_nonzero_elements(test_five)\n",
    "print(f\"Nonzero elements of L5: {result_five}\")"
   ]
  },
  {
   "cell_type": "code",
   "execution_count": 11,
   "metadata": {},
   "outputs": [],
   "source": [
    "\n",
    "neutrino_depth = file_2['shower_neutrino_depth']['value']"
   ]
  },
  {
   "cell_type": "code",
   "execution_count": 8,
   "metadata": {},
   "outputs": [],
   "source": [
    "shower_neutrino_energy = file_2['shower_neutrino_energy']['value']\n",
    "neutrino_zenith = file_2['shower_neutrino_zenith']['value']\n",
    "gaisser_weights = file_2['GaisserH4a_weight']['item']"
   ]
  },
  {
   "cell_type": "code",
   "execution_count": 9,
   "metadata": {},
   "outputs": [],
   "source": [
    "def get_lists(neutrino_energy,neutrino_zenith,weight,e_min,e_max):\n",
    "    energies = []\n",
    "    zeniths = []\n",
    "    weights = []\n",
    "    for i in range(len(neutrino_energy)):\n",
    "        if neutrino_energy[i] > e_min and neutrino_energy[i] < e_max:\n",
    "            energies.append(neutrino_energy[i])\n",
    "            zeniths.append(np.cos(neutrino_zenith[i]))\n",
    "            weights.append(weight[i])\n",
    "    return (zeniths,weights)"
   ]
  },
  {
   "cell_type": "code",
   "execution_count": 10,
   "metadata": {},
   "outputs": [],
   "source": [
    "over_100000 = get_lists(shower_neutrino_energy,neutrino_zenith,gaisser_weights,1e5,1e12)\n",
    "over_10000 = get_lists(shower_neutrino_energy,neutrino_zenith,gaisser_weights,1e4,1e12)\n",
    "over_1000 = get_lists(shower_neutrino_energy,neutrino_zenith,gaisser_weights,1e3,1e12)\n",
    "over_500 = get_lists(shower_neutrino_energy,neutrino_zenith,gaisser_weights,5e2,1e12)\n",
    "#over_100 = get_lists(shower_neutrino_energy,neutrino_zenith,gaisser_weights,1e2,1e12)\n",
    "#over_100_500 = get_lists(shower_neutrino_energy,neutrino_zenith,gaisser_weights,100.,500.)\n",
    "#over_10_100 = get_lists(shower_neutrino_energy,neutrino_zenith,gaisser_weights,10.,100.)\n",
    "#over_1_10 = get_lists(shower_neutrino_energy,neutrino_zenith,gaisser_weights,1.,10.)\n",
    "#over_0_1 = get_lists(shower_neutrino_energy,neutrino_zenith,gaisser_weights,0.,1.)\n",
    "#over_1 = get_lists(shower_neutrino_energy,neutrino_zenith,gaisser_weights,1.,1e12)\n",
    "over_0 = get_lists(shower_neutrino_energy,neutrino_zenith,gaisser_weights,0.,1e12)"
   ]
  },
  {
   "cell_type": "code",
   "execution_count": null,
   "metadata": {},
   "outputs": [],
   "source": [
    "f, ax = plt.subplots(1,1,figsize=(8,8), dpi = 300)\n",
    "mpl.rcParams[\"font.family\"] = 'monospace'\n",
    "COLOR = 'black'\n",
    "mpl.rcParams['text.color'] = COLOR\n",
    "mpl.rcParams['axes.labelcolor'] = COLOR\n",
    "mpl.rcParams['xtick.color'] = COLOR\n",
    "mpl.rcParams['ytick.color'] = COLOR\n",
    "mpl.rcParams['font.size']=12.0\n",
    "zenith_bins = np.linspace(0.,1.,6)\n",
    "ax.hist(over_0[0],weights = over_0[1],bins = zenith_bins,histtype='step',\n",
    "        label = 'sum',linestyle = 'solid',color='pink')\n",
    "#ax.hist(over_100[0],weights = over_100[1],bins = zenith_bins,histtype='step',\n",
    "#       linestyle = 'dashed',label = 'E > 100 GeV')\n",
    "ax.hist(over_500[0],weights = over_500[1],bins = zenith_bins,histtype='step',\n",
    "       label = 'E > 500 GeV',linestyle = 'dotted')\n",
    "ax.hist(over_1000[0],weights = over_1000[1],bins = zenith_bins,histtype='step',\n",
    "       label = 'E > 1 TeV',linestyle = 'dashed')\n",
    "ax.hist(over_10000[0],weights = over_10000[1],bins = zenith_bins,histtype='step',\n",
    "       label = 'E > 10 TeV',linestyle = 'dotted')\n",
    "ax.hist(over_100000[0],weights = over_100000[1],bins = zenith_bins,histtype='step',\n",
    "       label = 'E > 100 TeV',linestyle = 'dashdot')\n",
    "#ax.hist(over_1[0],weights = over_1[1],bins = zenith_bins,histtype='step',\n",
    "#       label = 'E > 1 GeV',linestyle = 'dashdot')\n",
    "#ax.hist(over_100_500[0],weights = over_100_500[1],bins = zenith_bins,histtype='step',\n",
    "#       label = '100 GeV < E < 500 GeV',linestyle = 'dashed')\n",
    "#ax.hist(over_10_100[0],weights = over_10_100[1],bins = zenith_bins,histtype='step',\n",
    "#       label = '10 GeV < E < 100 GeV',linestyle = 'dotted')\n",
    "#ax.hist(over_1_10[0],weights = over_1_10[1],bins = zenith_bins,histtype='step',\n",
    "#       label = '1 GeV < E < 10 GeV')\n",
    "#ax.hist(over_0_1[0],weights = over_0_1[1],bins = zenith_bins,histtype='step',\n",
    "#       label = '0 GeV < E < 1 GeV',linestyle = 'dashed')\n",
    "\n",
    "\n",
    "ax.set_xlabel('Cos(zenith)')\n",
    "ax.set_ylabel('Rate')\n",
    "ax.legend(fontsize=8, loc = 4)\n",
    "ax.set_yscale('log')"
   ]
  },
  {
   "cell_type": "code",
   "execution_count": 28,
   "metadata": {},
   "outputs": [
    {
     "data": {
      "text/plain": [
       "500.0"
      ]
     },
     "execution_count": 28,
     "metadata": {},
     "output_type": "execute_result"
    }
   ],
   "source": [
    "5e2"
   ]
  },
  {
   "cell_type": "code",
   "execution_count": 14,
   "metadata": {},
   "outputs": [
    {
     "data": {
      "text/plain": [
       "745290"
      ]
     },
     "execution_count": 14,
     "metadata": {},
     "output_type": "execute_result"
    }
   ],
   "source": [
    "len(over_0[0])"
   ]
  },
  {
   "cell_type": "code",
   "execution_count": 15,
   "metadata": {},
   "outputs": [
    {
     "data": {
      "text/plain": [
       "817973"
      ]
     },
     "execution_count": 15,
     "metadata": {},
     "output_type": "execute_result"
    }
   ],
   "source": [
    "len(shower_neutrino_energy)"
   ]
  },
  {
   "cell_type": "code",
   "execution_count": 16,
   "metadata": {},
   "outputs": [
    {
     "data": {
      "text/plain": [
       "791521.580833948"
      ]
     },
     "execution_count": 16,
     "metadata": {},
     "output_type": "execute_result"
    }
   ],
   "source": [
    "np.max(shower_neutrino_energy)"
   ]
  },
  {
   "cell_type": "code",
   "execution_count": null,
   "metadata": {},
   "outputs": [],
   "source": [
    "##Make energy distribution for muons and neutrino energies\n",
    "leading_muon_energy = file_2['Muon_UnCorr_Energy_L1']['value']\n",
    "neutrino_energy = file_2['shower_neutrino_energy']['value']\n",
    "print(leading_muon_energy[:5])\n",
    "print(neutrino_energy[:5])\n",
    "gaisser_weights = file_2['GaisserH4a_weight']['item']\n",
    "E_mu_bins = np.logspace(1,7,12+1)\n",
    "E_nu_bins = np.logspace(1,7,12+1)\n",
    "mu_bin_centers = np.sqrt(E_mu_bins[:-1] * E_mu_bins[1:])\n",
    "nu_bin_centers = np.sqrt(E_nu_bins[:-1] * E_nu_bins[1:])\n",
    "\n",
    "f, ax = plt.subplots(1,1,figsize=(8,8), dpi = 300)\n",
    "mpl.rcParams[\"font.family\"] = 'monospace'\n",
    "COLOR = 'black'\n",
    "mpl.rcParams['text.color'] = COLOR\n",
    "mpl.rcParams['axes.labelcolor'] = COLOR\n",
    "mpl.rcParams['xtick.color'] = COLOR\n",
    "mpl.rcParams['ytick.color'] = COLOR\n",
    "mpl.rcParams['font.size']=12.0\n",
    "\n",
    "muons,_ = np.histogram(leading_muon_energy,\n",
    "                     bins=E_mu_bins\n",
    "                     ,weights=gaisser_weights)\n",
    "ax.step(mu_bin_centers,muons,label='leading muon',where='mid',linestyle='dashdot')\n",
    "\n",
    "nus,_ = np.histogram(neutrino_energy,\n",
    "                     bins=E_nu_bins\n",
    "                     ,weights=gaisser_weights)\n",
    "ax.step(nu_bin_centers,nus,label='shower neutrino',where='mid',linestyle='dashdot')\n",
    "\n",
    "\n",
    "plt.xscale('log')\n",
    "plt.yscale('log')\n",
    "plt.xlabel('Energy [GeV]')\n",
    "plt.ylabel('Rate')\n",
    "plt.legend()\n",
    "plt.show()"
   ]
  },
  {
   "cell_type": "code",
   "execution_count": null,
   "metadata": {},
   "outputs": [],
   "source": []
  }
 ],
 "metadata": {
  "kernelspec": {
   "display_name": "Python 3",
   "language": "python",
   "name": "python3"
  }
 },
 "nbformat": 4,
 "nbformat_minor": 2
}
