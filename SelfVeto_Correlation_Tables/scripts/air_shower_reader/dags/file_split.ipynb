{
 "cells": [
  {
   "cell_type": "code",
   "execution_count": 1,
   "id": "af45b4d8",
   "metadata": {},
   "outputs": [
    {
     "data": {
      "text/plain": [
       "'000571'"
      ]
     },
     "execution_count": 1,
     "metadata": {},
     "output_type": "execute_result"
    }
   ],
   "source": [
    "file = '/data/user/zrechav/corsika/22803/0000000-0000999/corsika.022803.000571.i3.zst'\n",
    "file.split('/')[-1].split('_')[-1].split('.')[2]"
   ]
  },
  {
   "cell_type": "code",
   "execution_count": null,
   "id": "c179af16",
   "metadata": {},
   "outputs": [],
   "source": []
  }
 ],
 "metadata": {
  "kernelspec": {
   "display_name": "Python 3",
   "language": "python",
   "name": "python3"
  },
  "language_info": {
   "codemirror_mode": {
    "name": "ipython",
    "version": 3
   },
   "file_extension": ".py",
   "mimetype": "text/x-python",
   "name": "python",
   "nbconvert_exporter": "python",
   "pygments_lexer": "ipython3",
   "version": "3.11.3"
  }
 },
 "nbformat": 4,
 "nbformat_minor": 5
}
